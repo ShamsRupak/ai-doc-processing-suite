{
  "nbformat": 4,
  "nbformat_minor": 0,
  "metadata": {
    "colab": {
      "provenance": [],
      "authorship_tag": "ABX9TyMYs+Vuu/l2YPH1UgAtNzSd",
      "include_colab_link": true
    },
    "kernelspec": {
      "name": "python3",
      "display_name": "Python 3"
    },
    "language_info": {
      "name": "python"
    }
  },
  "cells": [
    {
      "cell_type": "markdown",
      "metadata": {
        "id": "view-in-github",
        "colab_type": "text"
      },
      "source": [
        "<a href=\"https://colab.research.google.com/github/ShamsRupak/ai-doc-processing-suite/blob/main/Analyze_a_Scanned_PDF.ipynb\" target=\"_parent\"><img src=\"https://colab.research.google.com/assets/colab-badge.svg\" alt=\"Open In Colab\"/></a>"
      ]
    },
    {
      "cell_type": "code",
      "execution_count": 1,
      "metadata": {
        "colab": {
          "base_uri": "https://localhost:8080/"
        },
        "id": "I4fNQSgrN7Du",
        "outputId": "5d1a676a-27c8-449e-d93e-8feb7239874a"
      },
      "outputs": [
        {
          "output_type": "stream",
          "name": "stdout",
          "text": [
            "Collecting pytesseract\n",
            "  Downloading pytesseract-0.3.13-py3-none-any.whl.metadata (11 kB)\n",
            "Collecting pdf2image\n",
            "  Downloading pdf2image-1.17.0-py3-none-any.whl.metadata (6.2 kB)\n",
            "Requirement already satisfied: opencv-python in /usr/local/lib/python3.11/dist-packages (4.11.0.86)\n",
            "Requirement already satisfied: packaging>=21.3 in /usr/local/lib/python3.11/dist-packages (from pytesseract) (24.2)\n",
            "Requirement already satisfied: Pillow>=8.0.0 in /usr/local/lib/python3.11/dist-packages (from pytesseract) (11.2.1)\n",
            "Requirement already satisfied: numpy>=1.21.2 in /usr/local/lib/python3.11/dist-packages (from opencv-python) (2.0.2)\n",
            "Downloading pytesseract-0.3.13-py3-none-any.whl (14 kB)\n",
            "Downloading pdf2image-1.17.0-py3-none-any.whl (11 kB)\n",
            "Installing collected packages: pytesseract, pdf2image\n",
            "Successfully installed pdf2image-1.17.0 pytesseract-0.3.13\n",
            "Reading package lists... Done\n",
            "Building dependency tree... Done\n",
            "Reading state information... Done\n",
            "tesseract-ocr is already the newest version (4.1.1-2.1build1).\n",
            "The following NEW packages will be installed:\n",
            "  poppler-utils\n",
            "0 upgraded, 1 newly installed, 0 to remove and 35 not upgraded.\n",
            "Need to get 186 kB of archives.\n",
            "After this operation, 697 kB of additional disk space will be used.\n",
            "Get:1 http://archive.ubuntu.com/ubuntu jammy-updates/main amd64 poppler-utils amd64 22.02.0-2ubuntu0.8 [186 kB]\n",
            "Fetched 186 kB in 1s (217 kB/s)\n",
            "Selecting previously unselected package poppler-utils.\n",
            "(Reading database ... 126281 files and directories currently installed.)\n",
            "Preparing to unpack .../poppler-utils_22.02.0-2ubuntu0.8_amd64.deb ...\n",
            "Unpacking poppler-utils (22.02.0-2ubuntu0.8) ...\n",
            "Setting up poppler-utils (22.02.0-2ubuntu0.8) ...\n",
            "Processing triggers for man-db (2.10.2-1) ...\n"
          ]
        }
      ],
      "source": [
        "!pip install pytesseract pdf2image opencv-python\n",
        "!apt install poppler-utils tesseract-ocr"
      ]
    },
    {
      "cell_type": "code",
      "source": [
        "from google.colab import files\n",
        "\n",
        "uploaded = files.upload()"
      ],
      "metadata": {
        "colab": {
          "base_uri": "https://localhost:8080/",
          "height": 74
        },
        "id": "OMZdrjcDN8DC",
        "outputId": "0e335619-8e91-496d-84a6-25fb5b5f60d6"
      },
      "execution_count": 2,
      "outputs": [
        {
          "output_type": "display_data",
          "data": {
            "text/plain": [
              "<IPython.core.display.HTML object>"
            ],
            "text/html": [
              "\n",
              "     <input type=\"file\" id=\"files-505a9532-9ad4-46a7-8ef6-e0dbe55b04f9\" name=\"files[]\" multiple disabled\n",
              "        style=\"border:none\" />\n",
              "     <output id=\"result-505a9532-9ad4-46a7-8ef6-e0dbe55b04f9\">\n",
              "      Upload widget is only available when the cell has been executed in the\n",
              "      current browser session. Please rerun this cell to enable.\n",
              "      </output>\n",
              "      <script>// Copyright 2017 Google LLC\n",
              "//\n",
              "// Licensed under the Apache License, Version 2.0 (the \"License\");\n",
              "// you may not use this file except in compliance with the License.\n",
              "// You may obtain a copy of the License at\n",
              "//\n",
              "//      http://www.apache.org/licenses/LICENSE-2.0\n",
              "//\n",
              "// Unless required by applicable law or agreed to in writing, software\n",
              "// distributed under the License is distributed on an \"AS IS\" BASIS,\n",
              "// WITHOUT WARRANTIES OR CONDITIONS OF ANY KIND, either express or implied.\n",
              "// See the License for the specific language governing permissions and\n",
              "// limitations under the License.\n",
              "\n",
              "/**\n",
              " * @fileoverview Helpers for google.colab Python module.\n",
              " */\n",
              "(function(scope) {\n",
              "function span(text, styleAttributes = {}) {\n",
              "  const element = document.createElement('span');\n",
              "  element.textContent = text;\n",
              "  for (const key of Object.keys(styleAttributes)) {\n",
              "    element.style[key] = styleAttributes[key];\n",
              "  }\n",
              "  return element;\n",
              "}\n",
              "\n",
              "// Max number of bytes which will be uploaded at a time.\n",
              "const MAX_PAYLOAD_SIZE = 100 * 1024;\n",
              "\n",
              "function _uploadFiles(inputId, outputId) {\n",
              "  const steps = uploadFilesStep(inputId, outputId);\n",
              "  const outputElement = document.getElementById(outputId);\n",
              "  // Cache steps on the outputElement to make it available for the next call\n",
              "  // to uploadFilesContinue from Python.\n",
              "  outputElement.steps = steps;\n",
              "\n",
              "  return _uploadFilesContinue(outputId);\n",
              "}\n",
              "\n",
              "// This is roughly an async generator (not supported in the browser yet),\n",
              "// where there are multiple asynchronous steps and the Python side is going\n",
              "// to poll for completion of each step.\n",
              "// This uses a Promise to block the python side on completion of each step,\n",
              "// then passes the result of the previous step as the input to the next step.\n",
              "function _uploadFilesContinue(outputId) {\n",
              "  const outputElement = document.getElementById(outputId);\n",
              "  const steps = outputElement.steps;\n",
              "\n",
              "  const next = steps.next(outputElement.lastPromiseValue);\n",
              "  return Promise.resolve(next.value.promise).then((value) => {\n",
              "    // Cache the last promise value to make it available to the next\n",
              "    // step of the generator.\n",
              "    outputElement.lastPromiseValue = value;\n",
              "    return next.value.response;\n",
              "  });\n",
              "}\n",
              "\n",
              "/**\n",
              " * Generator function which is called between each async step of the upload\n",
              " * process.\n",
              " * @param {string} inputId Element ID of the input file picker element.\n",
              " * @param {string} outputId Element ID of the output display.\n",
              " * @return {!Iterable<!Object>} Iterable of next steps.\n",
              " */\n",
              "function* uploadFilesStep(inputId, outputId) {\n",
              "  const inputElement = document.getElementById(inputId);\n",
              "  inputElement.disabled = false;\n",
              "\n",
              "  const outputElement = document.getElementById(outputId);\n",
              "  outputElement.innerHTML = '';\n",
              "\n",
              "  const pickedPromise = new Promise((resolve) => {\n",
              "    inputElement.addEventListener('change', (e) => {\n",
              "      resolve(e.target.files);\n",
              "    });\n",
              "  });\n",
              "\n",
              "  const cancel = document.createElement('button');\n",
              "  inputElement.parentElement.appendChild(cancel);\n",
              "  cancel.textContent = 'Cancel upload';\n",
              "  const cancelPromise = new Promise((resolve) => {\n",
              "    cancel.onclick = () => {\n",
              "      resolve(null);\n",
              "    };\n",
              "  });\n",
              "\n",
              "  // Wait for the user to pick the files.\n",
              "  const files = yield {\n",
              "    promise: Promise.race([pickedPromise, cancelPromise]),\n",
              "    response: {\n",
              "      action: 'starting',\n",
              "    }\n",
              "  };\n",
              "\n",
              "  cancel.remove();\n",
              "\n",
              "  // Disable the input element since further picks are not allowed.\n",
              "  inputElement.disabled = true;\n",
              "\n",
              "  if (!files) {\n",
              "    return {\n",
              "      response: {\n",
              "        action: 'complete',\n",
              "      }\n",
              "    };\n",
              "  }\n",
              "\n",
              "  for (const file of files) {\n",
              "    const li = document.createElement('li');\n",
              "    li.append(span(file.name, {fontWeight: 'bold'}));\n",
              "    li.append(span(\n",
              "        `(${file.type || 'n/a'}) - ${file.size} bytes, ` +\n",
              "        `last modified: ${\n",
              "            file.lastModifiedDate ? file.lastModifiedDate.toLocaleDateString() :\n",
              "                                    'n/a'} - `));\n",
              "    const percent = span('0% done');\n",
              "    li.appendChild(percent);\n",
              "\n",
              "    outputElement.appendChild(li);\n",
              "\n",
              "    const fileDataPromise = new Promise((resolve) => {\n",
              "      const reader = new FileReader();\n",
              "      reader.onload = (e) => {\n",
              "        resolve(e.target.result);\n",
              "      };\n",
              "      reader.readAsArrayBuffer(file);\n",
              "    });\n",
              "    // Wait for the data to be ready.\n",
              "    let fileData = yield {\n",
              "      promise: fileDataPromise,\n",
              "      response: {\n",
              "        action: 'continue',\n",
              "      }\n",
              "    };\n",
              "\n",
              "    // Use a chunked sending to avoid message size limits. See b/62115660.\n",
              "    let position = 0;\n",
              "    do {\n",
              "      const length = Math.min(fileData.byteLength - position, MAX_PAYLOAD_SIZE);\n",
              "      const chunk = new Uint8Array(fileData, position, length);\n",
              "      position += length;\n",
              "\n",
              "      const base64 = btoa(String.fromCharCode.apply(null, chunk));\n",
              "      yield {\n",
              "        response: {\n",
              "          action: 'append',\n",
              "          file: file.name,\n",
              "          data: base64,\n",
              "        },\n",
              "      };\n",
              "\n",
              "      let percentDone = fileData.byteLength === 0 ?\n",
              "          100 :\n",
              "          Math.round((position / fileData.byteLength) * 100);\n",
              "      percent.textContent = `${percentDone}% done`;\n",
              "\n",
              "    } while (position < fileData.byteLength);\n",
              "  }\n",
              "\n",
              "  // All done.\n",
              "  yield {\n",
              "    response: {\n",
              "      action: 'complete',\n",
              "    }\n",
              "  };\n",
              "}\n",
              "\n",
              "scope.google = scope.google || {};\n",
              "scope.google.colab = scope.google.colab || {};\n",
              "scope.google.colab._files = {\n",
              "  _uploadFiles,\n",
              "  _uploadFilesContinue,\n",
              "};\n",
              "})(self);\n",
              "</script> "
            ]
          },
          "metadata": {}
        },
        {
          "output_type": "stream",
          "name": "stdout",
          "text": [
            "Saving MTG_10009588.pdf to MTG_10009588.pdf\n"
          ]
        }
      ]
    },
    {
      "cell_type": "code",
      "source": [
        "from pdf2image import convert_from_path\n",
        "from PIL import Image\n",
        "import os\n",
        "\n",
        "# Convert uploaded PDF to image(s)\n",
        "pdf_path = next(iter(uploaded))\n",
        "images = convert_from_path(pdf_path)\n",
        "\n",
        "# Save first page as image\n",
        "image_path = \"page.png\"\n",
        "images[0].save(image_path, 'PNG')"
      ],
      "metadata": {
        "id": "1asChFVgOC6l"
      },
      "execution_count": 3,
      "outputs": []
    },
    {
      "cell_type": "code",
      "source": [
        "import cv2\n",
        "\n",
        "# Load and preprocess image\n",
        "img = cv2.imread(image_path)\n",
        "gray = cv2.cvtColor(img, cv2.COLOR_BGR2GRAY)\n",
        "gray = cv2.bilateralFilter(gray, 11, 17, 17)  # Denoise\n",
        "gray = cv2.adaptiveThreshold(gray, 255, cv2.ADAPTIVE_THRESH_GAUSSIAN_C,\n",
        "                             cv2.THRESH_BINARY, 11, 2)\n",
        "\n",
        "cv2.imwrite(\"preprocessed.png\", gray)"
      ],
      "metadata": {
        "colab": {
          "base_uri": "https://localhost:8080/"
        },
        "id": "87_-fb4-OLQE",
        "outputId": "6fa87df8-a706-4e75-d1ec-94ffede2921e"
      },
      "execution_count": 4,
      "outputs": [
        {
          "output_type": "execute_result",
          "data": {
            "text/plain": [
              "True"
            ]
          },
          "metadata": {},
          "execution_count": 4
        }
      ]
    },
    {
      "cell_type": "code",
      "source": [
        "import pytesseract\n",
        "\n",
        "custom_config = r'--oem 3 -l eng'\n",
        "ocr_text = pytesseract.image_to_string(gray, config=custom_config)\n",
        "\n",
        "print(\"OCR Extracted Text:\\n\", ocr_text)"
      ],
      "metadata": {
        "colab": {
          "base_uri": "https://localhost:8080/"
        },
        "id": "qVDdVQhRON2L",
        "outputId": "6c5a7dcb-62ea-43e7-fe39-3c22f3d9d7c1"
      },
      "execution_count": 5,
      "outputs": [
        {
          "output_type": "stream",
          "name": "stdout",
          "text": [
            "OCR Extracted Text:\n",
            " - UO\n",
            "\n",
            "MORTGAGE DOC.# 10009588\n",
            "\n",
            "DOCUMENT NUMBER\n",
            "\n",
            "RECORDED 06/28/2011 09:35AM\n",
            "JOHN LA FAVE\n",
            "NAME & RETURN ADDRESS REGISTER OF DEEDS\n",
            "M&I Home Lending Solutions Milwaukee County, HII\n",
            "Attn: Secondary Marketing AMOUNT: 30 00\n",
            "\n",
            "4121 NW Urbandale Drive\n",
            "\n",
            "Urbandale, IA 50322 FEE EXEMPT @:\n",
            "\n",
            "PARCEL IDENTIFIER NUMBER\n",
            "716-0027-6\n",
            "[Space Above This Line For Recording Data]\n",
            "\n",
            "FHA Case No\n",
            "State of Wisconsin\n",
            "581-4247085-703 :\n",
            "\n",
            "MIN 100273100009309945\n",
            "\n",
            " \n",
            "\n",
            "THIS MORTGAGE (\"Security Instrument”) is given on June 20, 2011\n",
            "The Mortgagor is KIMBERLY HOGAN, A Single Person,\n",
            "\n",
            "(\"Borrower\") This Security Instrument is given to Mortgage Electronic Registration Systems, Inc (\"MERS\"),\n",
            "(solely as nominee for Lender, as heremafter defined, and Lender's successors and assigns), as mortgagee MERS 1s\n",
            "orgamzed and existing under the laws of Delaware, and has an address and telephone number of PO Box.2026,\n",
            "Flint, MI 48301-2026, tel (888) 679-MERS M&I Bank FSB .\n",
            "(\"Lender\") 1s organized and existing under the laws of the United States of America , and\n",
            "has an address of 3993 Howard Hughes Parkway, Las Vegas, NV¥ 89109\n",
            "Borrower owes Lender the principal sum of\n",
            "One Hundred Twelve Thousand Eighty-four And 00/100\n",
            "Dollars (US $112,084.00 )\n",
            "\n",
            "This debt 1s evidenced by Borrower's note dated the same date as this Security Instrument (\"Note\"), which\n",
            "provides for monthly payments, with the full debt, if not paid earlier, due and payableon July 1, 2041\n",
            "\n",
            "This Security Instrument secures to Lender (a) the repayment of the debt evidenced by the\n",
            "Note, with interest, and all renewals, extensions and modifications of the Note, (6) the payment of all other sums,\n",
            "with interest, advanced under paragraph 7 to protect the security of this Secunty Instrument, and (c) the performance\n",
            "of Borrower's covenants and agreements under this Security Instrument and the Note For this purpose, Borrower\n",
            "does hereby mortgage, grant and convey to MERS (solely as nomunee for Lender and Lender's successors and\n",
            "\n",
            "LN **0994\n",
            "FHA Wisconsin Mortgage with MERS - 4/96\n",
            "Wolters Kluwer Financial Services\n",
            "VMP®-4NQWI) (0305)02\n",
            "\n",
            "Page 1 of 8 nflggended gt\n",
            "\n",
            "Doc Yr: 2011 Doc# 10009588 Page# 1 of 9\n",
            "\f\n"
          ]
        }
      ]
    },
    {
      "cell_type": "code",
      "source": [
        "import re\n",
        "\n",
        "# Remove newlines and fix common OCR issues\n",
        "ocr_text = \" \".join(ocr_text.split())\n",
        "ocr_text = re.sub(r'\\bLO@N\\b', 'LOAN', ocr_text, flags=re.IGNORECASE)\n",
        "ocr_text = re.sub(r'\\bMORTG@GE\\b', 'MORTGAGE', ocr_text, flags=re.IGNORECASE)\n",
        "ocr_text = re.sub(r'[^\\w\\s$%.,/-]', '', ocr_text)  # Clean junk\n",
        "\n",
        "print(\"Cleaned OCR Text:\\n\", ocr_text)"
      ],
      "metadata": {
        "colab": {
          "base_uri": "https://localhost:8080/"
        },
        "id": "pFyA3Dx_OQTG",
        "outputId": "e452bbff-92dd-4a13-d0f2-c04e217d61cd"
      },
      "execution_count": 6,
      "outputs": [
        {
          "output_type": "stream",
          "name": "stdout",
          "text": [
            "Cleaned OCR Text:\n",
            " - UO MORTGAGE DOC. 10009588 DOCUMENT NUMBER RECORDED 06/28/2011 0935AM JOHN LA FAVE NAME  RETURN ADDRESS REGISTER OF DEEDS MI Home Lending Solutions Milwaukee County, HII Attn Secondary Marketing AMOUNT 30 00 4121 NW Urbandale Drive Urbandale, IA 50322 FEE EXEMPT  PARCEL IDENTIFIER NUMBER 716-0027-6 Space Above This Line For Recording Data FHA Case No State of Wisconsin 581-4247085-703  MIN 100273100009309945 THIS MORTGAGE Security Instrument is given on June 20, 2011 The Mortgagor is KIMBERLY HOGAN, A Single Person, Borrower This Security Instrument is given to Mortgage Electronic Registration Systems, Inc MERS, solely as nominee for Lender, as heremafter defined, and Lenders successors and assigns, as mortgagee MERS 1s orgamzed and existing under the laws of Delaware, and has an address and telephone number of PO Box.2026, Flint, MI 48301-2026, tel 888 679-MERS MI Bank FSB . Lender 1s organized and existing under the laws of the United States of America , and has an address of 3993 Howard Hughes Parkway, Las Vegas, NV 89109 Borrower owes Lender the principal sum of One Hundred Twelve Thousand Eighty-four And 00/100 Dollars US $112,084.00  This debt 1s evidenced by Borrowers note dated the same date as this Security Instrument Note, which provides for monthly payments, with the full debt, if not paid earlier, due and payableon July 1, 2041 This Security Instrument secures to Lender a the repayment of the debt evidenced by the Note, with interest, and all renewals, extensions and modifications of the Note, 6 the payment of all other sums, with interest, advanced under paragraph 7 to protect the security of this Secunty Instrument, and c the performance of Borrowers covenants and agreements under this Security Instrument and the Note For this purpose, Borrower does hereby mortgage, grant and convey to MERS solely as nomunee for Lender and Lenders successors and LN 0994 FHA Wisconsin Mortgage with MERS - 4/96 Wolters Kluwer Financial Services VMP-4NQWI 030502 Page 1 of 8 nflggended gt Doc Yr 2011 Doc 10009588 Page 1 of 9\n"
          ]
        }
      ]
    },
    {
      "cell_type": "code",
      "source": [
        "key_data = {}\n",
        "\n",
        "patterns = {\n",
        "    \"loan_amount\": r\"Loan Amount[:\\s]*\\$?([\\d,]+\\.\\d{2})\",\n",
        "    \"interest_rate\": r\"Interest Rate[:\\s]*([\\d.]+%)\",\n",
        "    \"lender\": r\"Lender[:\\s]*([A-Za-z0-9 &,.]+)\",\n",
        "    \"borrower\": r\"Borrower[:\\s]*([A-Za-z0-9 &,.]+)\",\n",
        "    \"property_address\": r\"Property Address[:\\s]*(.+?)\\s*(?=Date|Loan)\",\n",
        "    \"recording_date\": r\"Recording Date[:\\s]*([A-Za-z]+\\s\\d{1,2},\\s\\d{4})\",\n",
        "    \"loan_date\": r\"Loan Date[:\\s]*([A-Za-z]+\\s\\d{1,2},\\s\\d{4})\",\n",
        "    \"document_title\": r\"(Mortgage|Deed of Trust)\"\n",
        "}\n",
        "\n",
        "for field, pattern in patterns.items():\n",
        "    match = re.search(pattern, ocr_text, re.IGNORECASE)\n",
        "    if match:\n",
        "        key_data[field] = match.group(1)\n",
        "\n",
        "print(\"Extracted Fields:\\n\", key_data)"
      ],
      "metadata": {
        "colab": {
          "base_uri": "https://localhost:8080/"
        },
        "id": "Pz0je7FPOTL5",
        "outputId": "4724f852-af5c-4d0d-bafa-73c63b66b6e9"
      },
      "execution_count": 7,
      "outputs": [
        {
          "output_type": "stream",
          "name": "stdout",
          "text": [
            "Extracted Fields:\n",
            " {'lender': ', as heremafter defined, and Lenders successors and assigns, as mortgagee MERS 1s orgamzed and existing under the laws of Delaware, and has an address and telephone number of PO Box.2026, Flint, MI 48301', 'borrower': 'This Security Instrument is given to Mortgage Electronic Registration Systems, Inc MERS, solely as nominee for Lender, as heremafter defined, and Lenders successors and assigns, as mortgagee MERS 1s orgamzed and existing under the laws of Delaware, and has an address and telephone number of PO Box.2026, Flint, MI 48301', 'document_title': 'MORTGAGE'}\n"
          ]
        }
      ]
    },
    {
      "cell_type": "code",
      "source": [
        "ocr_data = pytesseract.image_to_data(gray, output_type=pytesseract.Output.DICT)\n",
        "\n",
        "# Display sample bounding boxes\n",
        "for i in range(5):\n",
        "    print(f\"Word: {ocr_data['text'][i]}, BBox: ({ocr_data['left'][i]}, {ocr_data['top'][i]}, {ocr_data['width'][i]}, {ocr_data['height'][i]})\")"
      ],
      "metadata": {
        "colab": {
          "base_uri": "https://localhost:8080/"
        },
        "id": "l0BMSqysOYk5",
        "outputId": "02e12620-cffb-4114-a24d-98fc209127c3"
      },
      "execution_count": 8,
      "outputs": [
        {
          "output_type": "stream",
          "name": "stdout",
          "text": [
            "Word: , BBox: (0, 0, 1700, 2200)\n",
            "Word: , BBox: (552, 40, 874, 73)\n",
            "Word: , BBox: (552, 40, 874, 73)\n",
            "Word: , BBox: (552, 40, 874, 73)\n",
            "Word: -, BBox: (552, 82, 3, 5)\n"
          ]
        }
      ]
    },
    {
      "cell_type": "code",
      "source": [
        "extracted_json = {}\n",
        "\n",
        "for i in range(len(ocr_data['text'])):\n",
        "    word = ocr_data['text'][i].strip().upper()\n",
        "    for field, value in key_data.items():\n",
        "        if value.upper() in word or word in value.upper():\n",
        "            extracted_json[field] = {\n",
        "                \"text\": value,\n",
        "                \"bbox\": [ocr_data['left'][i], ocr_data['top'][i], ocr_data['width'][i], ocr_data['height'][i]],\n",
        "                \"conf\": ocr_data['conf'][i]\n",
        "            }\n",
        "\n",
        "import json\n",
        "print(\"Final Structured JSON Output:\\n\")\n",
        "print(json.dumps(extracted_json, indent=2))"
      ],
      "metadata": {
        "colab": {
          "base_uri": "https://localhost:8080/"
        },
        "id": "1E4tpoRDOai7",
        "outputId": "5da673b2-208a-4b4e-bd6a-9936732e5943"
      },
      "execution_count": 9,
      "outputs": [
        {
          "output_type": "stream",
          "name": "stdout",
          "text": [
            "Final Structured JSON Output:\n",
            "\n",
            "{\n",
            "  \"lender\": {\n",
            "    \"text\": \", as heremafter defined, and Lenders successors and assigns, as mortgagee MERS 1s orgamzed and existing under the laws of Delaware, and has an address and telephone number of PO Box.2026, Flint, MI 48301\",\n",
            "    \"bbox\": [\n",
            "      754,\n",
            "      2166,\n",
            "      30,\n",
            "      14\n",
            "    ],\n",
            "    \"conf\": 95\n",
            "  },\n",
            "  \"borrower\": {\n",
            "    \"text\": \"This Security Instrument is given to Mortgage Electronic Registration Systems, Inc MERS, solely as nominee for Lender, as heremafter defined, and Lenders successors and assigns, as mortgagee MERS 1s orgamzed and existing under the laws of Delaware, and has an address and telephone number of PO Box.2026, Flint, MI 48301\",\n",
            "    \"bbox\": [\n",
            "      754,\n",
            "      2166,\n",
            "      30,\n",
            "      14\n",
            "    ],\n",
            "    \"conf\": 95\n",
            "  },\n",
            "  \"document_title\": {\n",
            "    \"text\": \"MORTGAGE\",\n",
            "    \"bbox\": [\n",
            "      438,\n",
            "      2166,\n",
            "      346,\n",
            "      18\n",
            "    ],\n",
            "    \"conf\": -1\n",
            "  }\n",
            "}\n"
          ]
        }
      ]
    }
  ]
}