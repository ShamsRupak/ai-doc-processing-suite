{
  "nbformat": 4,
  "nbformat_minor": 0,
  "metadata": {
    "colab": {
      "provenance": [],
      "include_colab_link": true
    },
    "kernelspec": {
      "name": "python3",
      "display_name": "Python 3"
    },
    "language_info": {
      "name": "python"
    }
  },
  "cells": [
    {
      "cell_type": "markdown",
      "metadata": {
        "id": "view-in-github",
        "colab_type": "text"
      },
      "source": [
        "<a href=\"https://colab.research.google.com/github/ShamsRupak/ai-doc-processing-suite/blob/main/Python_Libraries_for_Data_Extraction.ipynb\" target=\"_parent\"><img src=\"https://colab.research.google.com/assets/colab-badge.svg\" alt=\"Open In Colab\"/></a>"
      ]
    },
    {
      "cell_type": "markdown",
      "source": [
        "## Setting Up Your Environment"
      ],
      "metadata": {
        "id": "SBj1P7nDjR0h"
      }
    },
    {
      "cell_type": "code",
      "execution_count": null,
      "metadata": {
        "colab": {
          "base_uri": "https://localhost:8080/"
        },
        "id": "fNJS-hpZpfjd",
        "outputId": "5c688e3b-2f99-4d27-83b0-35f9992b7cc2"
      },
      "outputs": [
        {
          "output_type": "stream",
          "name": "stdout",
          "text": [
            "Collecting pymupdf\n",
            "  Downloading pymupdf-1.26.3-cp39-abi3-manylinux_2_28_x86_64.whl.metadata (3.4 kB)\n",
            "Collecting pypdf2\n",
            "  Downloading pypdf2-3.0.1-py3-none-any.whl.metadata (6.8 kB)\n",
            "Collecting pdfplumber\n",
            "  Downloading pdfplumber-0.11.7-py3-none-any.whl.metadata (42 kB)\n",
            "\u001b[2K     \u001b[90m━━━━━━━━━━━━━━━━━━━━━━━━━━━━━━━━━━━━━━━━\u001b[0m \u001b[32m42.8/42.8 kB\u001b[0m \u001b[31m3.2 MB/s\u001b[0m eta \u001b[36m0:00:00\u001b[0m\n",
            "\u001b[?25hCollecting pdfminer.six==20250506 (from pdfplumber)\n",
            "  Downloading pdfminer_six-20250506-py3-none-any.whl.metadata (4.2 kB)\n",
            "Requirement already satisfied: Pillow>=9.1 in /usr/local/lib/python3.11/dist-packages (from pdfplumber) (11.2.1)\n",
            "Collecting pypdfium2>=4.18.0 (from pdfplumber)\n",
            "  Downloading pypdfium2-4.30.1-py3-none-manylinux_2_17_x86_64.manylinux2014_x86_64.whl.metadata (48 kB)\n",
            "\u001b[2K     \u001b[90m━━━━━━━━━━━━━━━━━━━━━━━━━━━━━━━━━━━━━━━━\u001b[0m \u001b[32m48.2/48.2 kB\u001b[0m \u001b[31m4.1 MB/s\u001b[0m eta \u001b[36m0:00:00\u001b[0m\n",
            "\u001b[?25hRequirement already satisfied: charset-normalizer>=2.0.0 in /usr/local/lib/python3.11/dist-packages (from pdfminer.six==20250506->pdfplumber) (3.4.2)\n",
            "Requirement already satisfied: cryptography>=36.0.0 in /usr/local/lib/python3.11/dist-packages (from pdfminer.six==20250506->pdfplumber) (43.0.3)\n",
            "Requirement already satisfied: cffi>=1.12 in /usr/local/lib/python3.11/dist-packages (from cryptography>=36.0.0->pdfminer.six==20250506->pdfplumber) (1.17.1)\n",
            "Requirement already satisfied: pycparser in /usr/local/lib/python3.11/dist-packages (from cffi>=1.12->cryptography>=36.0.0->pdfminer.six==20250506->pdfplumber) (2.22)\n",
            "Downloading pymupdf-1.26.3-cp39-abi3-manylinux_2_28_x86_64.whl (24.1 MB)\n",
            "\u001b[2K   \u001b[90m━━━━━━━━━━━━━━━━━━━━━━━━━━━━━━━━━━━━━━━━\u001b[0m \u001b[32m24.1/24.1 MB\u001b[0m \u001b[31m80.7 MB/s\u001b[0m eta \u001b[36m0:00:00\u001b[0m\n",
            "\u001b[?25hDownloading pypdf2-3.0.1-py3-none-any.whl (232 kB)\n",
            "\u001b[2K   \u001b[90m━━━━━━━━━━━━━━━━━━━━━━━━━━━━━━━━━━━━━━━━\u001b[0m \u001b[32m232.6/232.6 kB\u001b[0m \u001b[31m21.1 MB/s\u001b[0m eta \u001b[36m0:00:00\u001b[0m\n",
            "\u001b[?25hDownloading pdfplumber-0.11.7-py3-none-any.whl (60 kB)\n",
            "\u001b[2K   \u001b[90m━━━━━━━━━━━━━━━━━━━━━━━━━━━━━━━━━━━━━━━━\u001b[0m \u001b[32m60.0/60.0 kB\u001b[0m \u001b[31m4.8 MB/s\u001b[0m eta \u001b[36m0:00:00\u001b[0m\n",
            "\u001b[?25hDownloading pdfminer_six-20250506-py3-none-any.whl (5.6 MB)\n",
            "\u001b[2K   \u001b[90m━━━━━━━━━━━━━━━━━━━━━━━━━━━━━━━━━━━━━━━━\u001b[0m \u001b[32m5.6/5.6 MB\u001b[0m \u001b[31m62.9 MB/s\u001b[0m eta \u001b[36m0:00:00\u001b[0m\n",
            "\u001b[?25hDownloading pypdfium2-4.30.1-py3-none-manylinux_2_17_x86_64.manylinux2014_x86_64.whl (2.9 MB)\n",
            "\u001b[2K   \u001b[90m━━━━━━━━━━━━━━━━━━━━━━━━━━━━━━━━━━━━━━━━\u001b[0m \u001b[32m2.9/2.9 MB\u001b[0m \u001b[31m80.1 MB/s\u001b[0m eta \u001b[36m0:00:00\u001b[0m\n",
            "\u001b[?25hInstalling collected packages: pypdfium2, pypdf2, pymupdf, pdfminer.six, pdfplumber\n",
            "Successfully installed pdfminer.six-20250506 pdfplumber-0.11.7 pymupdf-1.26.3 pypdf2-3.0.1 pypdfium2-4.30.1\n"
          ]
        }
      ],
      "source": [
        "!pip install pymupdf pypdf2 pdfplumber"
      ]
    },
    {
      "cell_type": "code",
      "source": [
        "# Upload document\n",
        "from google.colab import files\n",
        "uploaded = files.upload()"
      ],
      "metadata": {
        "colab": {
          "base_uri": "https://localhost:8080/",
          "height": 74
        },
        "id": "ybXf0VY_qFGN",
        "outputId": "73a485b2-4e5f-47b0-d8c0-7560cb435eb9"
      },
      "execution_count": null,
      "outputs": [
        {
          "output_type": "display_data",
          "data": {
            "text/plain": [
              "<IPython.core.display.HTML object>"
            ],
            "text/html": [
              "\n",
              "     <input type=\"file\" id=\"files-9b62def5-545f-4fb3-b707-39566fe6e0ea\" name=\"files[]\" multiple disabled\n",
              "        style=\"border:none\" />\n",
              "     <output id=\"result-9b62def5-545f-4fb3-b707-39566fe6e0ea\">\n",
              "      Upload widget is only available when the cell has been executed in the\n",
              "      current browser session. Please rerun this cell to enable.\n",
              "      </output>\n",
              "      <script>// Copyright 2017 Google LLC\n",
              "//\n",
              "// Licensed under the Apache License, Version 2.0 (the \"License\");\n",
              "// you may not use this file except in compliance with the License.\n",
              "// You may obtain a copy of the License at\n",
              "//\n",
              "//      http://www.apache.org/licenses/LICENSE-2.0\n",
              "//\n",
              "// Unless required by applicable law or agreed to in writing, software\n",
              "// distributed under the License is distributed on an \"AS IS\" BASIS,\n",
              "// WITHOUT WARRANTIES OR CONDITIONS OF ANY KIND, either express or implied.\n",
              "// See the License for the specific language governing permissions and\n",
              "// limitations under the License.\n",
              "\n",
              "/**\n",
              " * @fileoverview Helpers for google.colab Python module.\n",
              " */\n",
              "(function(scope) {\n",
              "function span(text, styleAttributes = {}) {\n",
              "  const element = document.createElement('span');\n",
              "  element.textContent = text;\n",
              "  for (const key of Object.keys(styleAttributes)) {\n",
              "    element.style[key] = styleAttributes[key];\n",
              "  }\n",
              "  return element;\n",
              "}\n",
              "\n",
              "// Max number of bytes which will be uploaded at a time.\n",
              "const MAX_PAYLOAD_SIZE = 100 * 1024;\n",
              "\n",
              "function _uploadFiles(inputId, outputId) {\n",
              "  const steps = uploadFilesStep(inputId, outputId);\n",
              "  const outputElement = document.getElementById(outputId);\n",
              "  // Cache steps on the outputElement to make it available for the next call\n",
              "  // to uploadFilesContinue from Python.\n",
              "  outputElement.steps = steps;\n",
              "\n",
              "  return _uploadFilesContinue(outputId);\n",
              "}\n",
              "\n",
              "// This is roughly an async generator (not supported in the browser yet),\n",
              "// where there are multiple asynchronous steps and the Python side is going\n",
              "// to poll for completion of each step.\n",
              "// This uses a Promise to block the python side on completion of each step,\n",
              "// then passes the result of the previous step as the input to the next step.\n",
              "function _uploadFilesContinue(outputId) {\n",
              "  const outputElement = document.getElementById(outputId);\n",
              "  const steps = outputElement.steps;\n",
              "\n",
              "  const next = steps.next(outputElement.lastPromiseValue);\n",
              "  return Promise.resolve(next.value.promise).then((value) => {\n",
              "    // Cache the last promise value to make it available to the next\n",
              "    // step of the generator.\n",
              "    outputElement.lastPromiseValue = value;\n",
              "    return next.value.response;\n",
              "  });\n",
              "}\n",
              "\n",
              "/**\n",
              " * Generator function which is called between each async step of the upload\n",
              " * process.\n",
              " * @param {string} inputId Element ID of the input file picker element.\n",
              " * @param {string} outputId Element ID of the output display.\n",
              " * @return {!Iterable<!Object>} Iterable of next steps.\n",
              " */\n",
              "function* uploadFilesStep(inputId, outputId) {\n",
              "  const inputElement = document.getElementById(inputId);\n",
              "  inputElement.disabled = false;\n",
              "\n",
              "  const outputElement = document.getElementById(outputId);\n",
              "  outputElement.innerHTML = '';\n",
              "\n",
              "  const pickedPromise = new Promise((resolve) => {\n",
              "    inputElement.addEventListener('change', (e) => {\n",
              "      resolve(e.target.files);\n",
              "    });\n",
              "  });\n",
              "\n",
              "  const cancel = document.createElement('button');\n",
              "  inputElement.parentElement.appendChild(cancel);\n",
              "  cancel.textContent = 'Cancel upload';\n",
              "  const cancelPromise = new Promise((resolve) => {\n",
              "    cancel.onclick = () => {\n",
              "      resolve(null);\n",
              "    };\n",
              "  });\n",
              "\n",
              "  // Wait for the user to pick the files.\n",
              "  const files = yield {\n",
              "    promise: Promise.race([pickedPromise, cancelPromise]),\n",
              "    response: {\n",
              "      action: 'starting',\n",
              "    }\n",
              "  };\n",
              "\n",
              "  cancel.remove();\n",
              "\n",
              "  // Disable the input element since further picks are not allowed.\n",
              "  inputElement.disabled = true;\n",
              "\n",
              "  if (!files) {\n",
              "    return {\n",
              "      response: {\n",
              "        action: 'complete',\n",
              "      }\n",
              "    };\n",
              "  }\n",
              "\n",
              "  for (const file of files) {\n",
              "    const li = document.createElement('li');\n",
              "    li.append(span(file.name, {fontWeight: 'bold'}));\n",
              "    li.append(span(\n",
              "        `(${file.type || 'n/a'}) - ${file.size} bytes, ` +\n",
              "        `last modified: ${\n",
              "            file.lastModifiedDate ? file.lastModifiedDate.toLocaleDateString() :\n",
              "                                    'n/a'} - `));\n",
              "    const percent = span('0% done');\n",
              "    li.appendChild(percent);\n",
              "\n",
              "    outputElement.appendChild(li);\n",
              "\n",
              "    const fileDataPromise = new Promise((resolve) => {\n",
              "      const reader = new FileReader();\n",
              "      reader.onload = (e) => {\n",
              "        resolve(e.target.result);\n",
              "      };\n",
              "      reader.readAsArrayBuffer(file);\n",
              "    });\n",
              "    // Wait for the data to be ready.\n",
              "    let fileData = yield {\n",
              "      promise: fileDataPromise,\n",
              "      response: {\n",
              "        action: 'continue',\n",
              "      }\n",
              "    };\n",
              "\n",
              "    // Use a chunked sending to avoid message size limits. See b/62115660.\n",
              "    let position = 0;\n",
              "    do {\n",
              "      const length = Math.min(fileData.byteLength - position, MAX_PAYLOAD_SIZE);\n",
              "      const chunk = new Uint8Array(fileData, position, length);\n",
              "      position += length;\n",
              "\n",
              "      const base64 = btoa(String.fromCharCode.apply(null, chunk));\n",
              "      yield {\n",
              "        response: {\n",
              "          action: 'append',\n",
              "          file: file.name,\n",
              "          data: base64,\n",
              "        },\n",
              "      };\n",
              "\n",
              "      let percentDone = fileData.byteLength === 0 ?\n",
              "          100 :\n",
              "          Math.round((position / fileData.byteLength) * 100);\n",
              "      percent.textContent = `${percentDone}% done`;\n",
              "\n",
              "    } while (position < fileData.byteLength);\n",
              "  }\n",
              "\n",
              "  // All done.\n",
              "  yield {\n",
              "    response: {\n",
              "      action: 'complete',\n",
              "    }\n",
              "  };\n",
              "}\n",
              "\n",
              "scope.google = scope.google || {};\n",
              "scope.google.colab = scope.google.colab || {};\n",
              "scope.google.colab._files = {\n",
              "  _uploadFiles,\n",
              "  _uploadFilesContinue,\n",
              "};\n",
              "})(self);\n",
              "</script> "
            ]
          },
          "metadata": {}
        },
        {
          "output_type": "stream",
          "name": "stdout",
          "text": [
            "Saving sample_title_report.pdf to sample_title_report.pdf\n"
          ]
        }
      ]
    },
    {
      "cell_type": "code",
      "source": [
        "# Check file directory\n",
        "import os\n",
        "print(os.listdir())\n"
      ],
      "metadata": {
        "id": "iBkNzBjhqHFH",
        "outputId": "90e47c27-20f2-49ea-ec15-74b641eaca2e",
        "colab": {
          "base_uri": "https://localhost:8080/"
        }
      },
      "execution_count": null,
      "outputs": [
        {
          "output_type": "stream",
          "name": "stdout",
          "text": [
            "['.config', 'sample_title_report.pdf', 'sample_data']\n"
          ]
        }
      ]
    },
    {
      "cell_type": "markdown",
      "source": [
        "## Using PyPDF2"
      ],
      "metadata": {
        "id": "U1rNQmsQjXm0"
      }
    },
    {
      "cell_type": "markdown",
      "source": [
        "Open and Read a Pdf"
      ],
      "metadata": {
        "id": "QG4fofdQjYMo"
      }
    },
    {
      "cell_type": "code",
      "source": [
        "from PyPDF2 import PdfReader\n",
        "\n",
        "# Load the PDF file\n",
        "# Change the address to your file\n",
        "reader = PdfReader(\"sample_title_report.pdf\")\n",
        "\n",
        "# Check the total number of pages\n",
        "print(f\"The PDF has {len(reader.pages)} pages.\")"
      ],
      "metadata": {
        "id": "KInK2jnBqI_r",
        "colab": {
          "base_uri": "https://localhost:8080/"
        },
        "outputId": "5c9a8cdb-85a9-41e3-b4f2-239fa1a8903e"
      },
      "execution_count": null,
      "outputs": [
        {
          "output_type": "stream",
          "name": "stdout",
          "text": [
            "The PDF has 30 pages.\n"
          ]
        }
      ]
    },
    {
      "cell_type": "markdown",
      "source": [
        "Extract text from a page"
      ],
      "metadata": {
        "id": "aCR4FenvjdD3"
      }
    },
    {
      "cell_type": "code",
      "source": [
        "# Extract text from the first page\n",
        "page = reader.pages[2]\n",
        "print(page.extract_text())"
      ],
      "metadata": {
        "colab": {
          "base_uri": "https://localhost:8080/"
        },
        "id": "2pzdD8Z5jdm6",
        "outputId": "15c60ca4-588c-405a-cf9e-d9a6641b6329"
      },
      "execution_count": null,
      "outputs": [
        {
          "output_type": "stream",
          "name": "stdout",
          "text": [
            "PRELIMINARY REPORT Ticor  Title Company of  California \n",
            "YOUR REFERENCE:   First Street ORDER NO.:  CYTEST- 995-\n",
            "CLTA Preliminary Report Form – Modified (11/17/06) Page 3EXHIBIT “A”\n",
            "LEGAL DESCRIPTION\n",
            "THE LAND REFERRED  TO HEREIN BELOW  IS SITUATED IN THE COUNTY OF SAN DIEGO, STATE OF \n",
            "CALIFORNIA, AND IS DESCRIBED AS FOLLOWS:\n",
            "Parcel No 1:\n",
            "Lot 58 of Villa Barbados North  Unit No. 1, in the City of San Diego, County of San Diego, State of California, according to \n",
            "the Map thereof no. 7236, filed in the  Office  of the  County Recorder  of San Diego County, March 22, 1972.\n",
            "Excepting therefrom  all minerals,  coals, oils, petroleum,  gas and other kindred  substances under  and in said land, but without \n",
            "right of entry of the surface thereof, but with the right,  however, to drill in, through, or under  said land or to explore,  develop, \n",
            "or take all minerals, coals, oils, petroleum,  gas and other kindred substances  in and from said laud, all such operations to be \n",
            "conducted below a depth of five hundred (500) feet below the surface thereof.\n",
            "Parcel No 2:\n",
            "An easement  and right of way for open  space, general utility, access  and parking to be used in common with others, over,  \n",
            "under, along and across those portions of Lots 56, 57, 58 and 59 of Villa Barbados  North Unit No. 1, in the City of San \n",
            "Diego, County of San Diego, State of California,  according to Map thereof No. 7236, filed in the Office of the County \n",
            "Recorder of  San Diego County, March 22, 1972, described as follows:\n",
            "Beginning at the Southeast corner of said Lot 59; thence North 87°30'29\" West along the Southerly  line of said Lot, a \n",
            "distance of 12.50 feet; thence North 2°29'31\"  East, 42.71 feet to the beginning of a tangent  curve, concave Southwesterly \n",
            "having a radius of 13.50 feet; thence Northwesterly  along  the arc of said curve through a central  angle of 90°, a distance of \n",
            "21.21 feet; thence North 2°29'31\" East, 48 feet; thence  South 87°30'29\" East,  52 feet; thence South 2°29'31\"  West, 48 feet to \n",
            "a point at the beginning of a curve, concave Southeasterly whose radius bears  South 2°29'31\" West, 13.50 feet from said \n",
            "point; thence Southwesterly along the arc of said curve through a central angle of 90°, a distance  of 21.21 feet; thence South \n",
            "2°29'31\" West. 42.71 feet to the Southerly line of said Lot 56; thence North  87°30'29\" West along said Southerly line, 12.50 \n",
            "feet to the Point of Beginning.\n",
            "Excepting therefrom that  portion  included  within  Lot 58.\n",
            "APN:  370-200-01\n"
          ]
        }
      ]
    },
    {
      "cell_type": "markdown",
      "source": [
        "## Text and Table Extraction with pdfplumber"
      ],
      "metadata": {
        "id": "HfyYbKzPkYSW"
      }
    },
    {
      "cell_type": "markdown",
      "source": [
        "Open a PDF:"
      ],
      "metadata": {
        "id": "tOajAtuYkbpi"
      }
    },
    {
      "cell_type": "code",
      "source": [
        "import pdfplumber\n",
        "\n",
        "# Load the PDF\n",
        "with pdfplumber.open(\"sample_title_report.pdf\") as pdf:\n",
        "    # Get the total number of pages\n",
        "    print(f\"The PDF has {len(pdf.pages)} pages.\")"
      ],
      "metadata": {
        "colab": {
          "base_uri": "https://localhost:8080/"
        },
        "id": "N9RypwXBkaQl",
        "outputId": "90ab44b1-b0f9-4746-a56f-3ab8a661268c"
      },
      "execution_count": null,
      "outputs": [
        {
          "output_type": "stream",
          "name": "stdout",
          "text": [
            "The PDF has 30 pages.\n"
          ]
        }
      ]
    },
    {
      "cell_type": "markdown",
      "source": [
        "Extract Text from a Page"
      ],
      "metadata": {
        "id": "Qo71Gy3gkoK8"
      }
    },
    {
      "cell_type": "code",
      "source": [
        "# Extract text from the first page\n",
        "with pdfplumber.open(\"sample_title_report.pdf\") as pdf:\n",
        "    page = pdf.pages[0]\n",
        "    print(page.extract_text())"
      ],
      "metadata": {
        "colab": {
          "base_uri": "https://localhost:8080/"
        },
        "id": "e4NaEVJHkhSC",
        "outputId": "6c23547f-f7a2-40ab-ba3e-5c8d020a7438"
      },
      "execution_count": null,
      "outputs": [
        {
          "output_type": "stream",
          "name": "stdout",
          "text": [
            "2878 Camino Del Rio South, Suite 500\n",
            "San Diego, CA 92108\n",
            "Phone: (619) 260-0015\n",
            "Fax: (619) 692-9465\n",
            "Issuing Policies of Chicago Title Insurance Company\n",
            "ORDER NO.: CYTEST-995- Escrow/Customer Phone:\n",
            "Ticor Title Escrow Title Officer: Best Title Officer\n",
            "567 Main Street Title Officer Phone: (619) 260-0000\n",
            "San Diego, CA 92108 Title Officer Fax: (619) 295-0000\n",
            "ATTN: Best Escrow Officer Title Officer Email: titleteam@ticortitle.com\n",
            "Email: escrowteam@ticortitle.com\n",
            "Reference No.: First Street\n",
            "PROPERTY: 1234 First Street, San Diego, CA 92101\n",
            "PRELIMINARY REPORT\n",
            "In response to the application for a policy of title insurance referenced herein, Ticor Title Company of California hereby\n",
            "reports that it is prepared to issue, or cause to be issued, as of the date hereof, a policy or policies of title insurance\n",
            "describing the land and the estate or interest therein hereinafter set forth, insuring against loss which may be sustained by\n",
            "reason of any defect, lien or encumbrance not shown or referred to as an exception herein or not excluded from coverage\n",
            "pursuant to the printed Schedules, Conditions and Stipulations or Conditions of said policy forms.\n",
            "The printed Exceptions and Exclusions from the coverage and Limitations on Covered Risks of said policy or policies are set\n",
            "forth in Attachment One. The policy to be issued may contain an arbitration clause. When the Amount of Insurance is less\n",
            "than that set forth in the arbitration clause, all arbitrable matters shall be arbitrated at the option of either the Company or\n",
            "the Insured as the exclusive remedy of the parties. Limitations on Covered Risks applicable to the CLTA and ALTA\n",
            "Homeowner’s Policies of Title Insurance which establish a Deductible Amount and a Maximum Dollar Limit of Liability for\n",
            "certain coverages are also set forth in Attachment One. Copies of the policy forms should be read. They are available from\n",
            "the office which issued this report.\n",
            "This report (and any supplements or amendments hereto) is issued solely for the purpose of facilitating the issuance of a\n",
            "policy of title insurance and no liability is assumed hereby. If it is desired that liability be assumed prior to the issuance of a\n",
            "policy of title insurance, a Binder or Commitment should be requested.\n",
            "The policy(s) of title insurance to be issued hereunder will be policy(s) of Chicago Title Insurance Company, a Nebraska\n",
            "Corporation.\n",
            "Please read the exceptions shown or referred to herein and the exceptions and exclusions set forth in Attachment One of\n",
            "this report carefully. The exceptions and exclusions are meant to provide you with notice of matters which are not covered\n",
            "under the terms of the title insurance policy and should be carefully considered.\n",
            "It is important to note that this preliminary report is not a written representation as to the condition of title and may not\n",
            "list all liens, defects and encumbrances affecting title to the land.\n",
            "Ticor Title Company of California\n",
            "By:\n",
            "Authorized Signature\n",
            "CLTA Preliminary Report Form – Modified (11/17/06) Page 1\n"
          ]
        }
      ]
    },
    {
      "cell_type": "markdown",
      "source": [
        "Extract Tables"
      ],
      "metadata": {
        "id": "9wt3NH3TktG7"
      }
    },
    {
      "cell_type": "code",
      "source": [
        "# Extract tables from the first page\n",
        "with pdfplumber.open(\"sample_title_report.pdf\") as pdf:\n",
        "  # try putting the page number where there is a table\n",
        "    page = pdf.pages[12]\n",
        "    tables = page.extract_tables()\n",
        "    for table in tables:\n",
        "        for row in table:\n",
        "            print(row)"
      ],
      "metadata": {
        "colab": {
          "base_uri": "https://localhost:8080/"
        },
        "id": "bb3wXjHikqGp",
        "outputId": "57b21801-d05c-4d49-aaa2-931824da84d9"
      },
      "execution_count": null,
      "outputs": [
        {
          "output_type": "stream",
          "name": "stdout",
          "text": [
            "['To:', 'Ticor Title Company of California, 2878 Camino Del Rio South, Suite 500, San Diego, CA 92108']\n",
            "['Date:', '']\n",
            "['From:\\n(name)', '']\n",
            "['Current Address:', '']\n",
            "['', 'I believe that I am qualified for the $20.00 discount pursuant to the coordinated stipulated judgments\\nentered in actions filed by both the Attorney General and private class action plaintiffs. I have not\\npreviously received a cash payment or a discount from another Company on the property described\\nbelow:\\nSigned: Date:']\n",
            "['Address of\\nqualifying\\nproperty:', '']\n",
            "['Approximate date\\nof transaction', '']\n",
            "['Escrow No.:', '']\n",
            "['Escrow Officer:', '']\n",
            "['Fax Number:', '']\n"
          ]
        }
      ]
    },
    {
      "cell_type": "markdown",
      "source": [
        "## Using PyMuPDF"
      ],
      "metadata": {
        "id": "xeRUKYoAlZV8"
      }
    },
    {
      "cell_type": "markdown",
      "source": [
        "Open a PDF and View Metadata:"
      ],
      "metadata": {
        "id": "bH7ttMpglcGO"
      }
    },
    {
      "cell_type": "code",
      "source": [
        "import fitz  # PyMuPDF\n",
        "\n",
        "# Load the PDF\n",
        "doc = fitz.open(\"sample_title_report.pdf\")\n",
        "\n",
        "# Print metadata\n",
        "print(\"PDF Metadata:\", doc.metadata)"
      ],
      "metadata": {
        "colab": {
          "base_uri": "https://localhost:8080/"
        },
        "id": "XEbBMVTHldbe",
        "outputId": "7f28b811-0825-459a-9fab-a47a31b209d6"
      },
      "execution_count": null,
      "outputs": [
        {
          "output_type": "stream",
          "name": "stdout",
          "text": [
            "PDF Metadata: {'format': 'PDF 1.5', 'title': 'Title Report', 'author': '06-13-2013 15:44:29', 'subject': 'CYTEST|lPrelm.DOC', 'keywords': '', 'creator': 'Microsoft Office Word', 'producer': 'Aspose.Words for .NET 11.3.0.0', 'creationDate': 'D:20130613224500Z', 'modDate': 'D:20130613224500Z', 'trapped': '', 'encryption': None}\n"
          ]
        }
      ]
    },
    {
      "cell_type": "code",
      "source": [
        "# Extract text from the first page\n",
        "page = doc[0]\n",
        "print(page.get_text())"
      ],
      "metadata": {
        "colab": {
          "base_uri": "https://localhost:8080/"
        },
        "id": "qMzGdLMsleld",
        "outputId": "7763ab7d-f54f-4162-e595-886981a25334"
      },
      "execution_count": null,
      "outputs": [
        {
          "output_type": "stream",
          "name": "stdout",
          "text": [
            "2878 Camino Del Rio South, Suite 500\n",
            "San Diego, CA 92108\n",
            "Phone:  (619) 260-0015\n",
            "Fax:  (619) 692-9465\n",
            "CLTA Preliminary Report Form – Modified (11/17/06)\n",
            "Page 1\n",
            "Issuing Policies of Chicago Title Insurance Company\n",
            "ORDER NO.:  CYTEST-995-\n",
            "Ticor Title Escrow \n",
            "567 Main Street\n",
            "San Diego, CA 92108 \n",
            "ATTN:  Best Escrow Officer  \n",
            "Email:  escrowteam@ticortitle.com\n",
            "Reference No.:  First Street\n",
            "Escrow/Customer Phone:  \n",
            "Title Officer:  Best Title Officer\n",
            "Title Officer Phone:  (619) 260-0000\n",
            "Title Officer Fax:  (619) 295-0000\n",
            "Title Officer Email:  titleteam@ticortitle.com\n",
            "PROPERTY:\n",
            "1234 First Street, San Diego, CA  92101 \n",
            "PRELIMINARY REPORT\n",
            "In response to the application for a policy of title insurance referenced herein, Ticor Title Company of California hereby \n",
            "reports that it is prepared to issue, or cause to be issued, as of the date hereof, a policy or policies of title insurance \n",
            "describing the land and the estate or interest therein hereinafter set forth, insuring against loss which may be sustained by \n",
            "reason of any defect, lien or encumbrance not shown or referred to as an exception herein or not excluded from coverage \n",
            "pursuant to the printed Schedules, Conditions and Stipulations or Conditions of said policy forms.\n",
            "The printed Exceptions and Exclusions from the coverage and Limitations on Covered Risks of said policy or policies are set \n",
            "forth in Attachment One. The policy to be issued may contain an arbitration clause. When the Amount of Insurance is less \n",
            "than that set forth in the arbitration clause, all arbitrable matters shall be arbitrated at the option of either the Company or \n",
            "the Insured as the exclusive remedy of the parties. Limitations on Covered Risks applicable to the CLTA and ALTA \n",
            "Homeowner’s Policies of Title Insurance which establish a Deductible Amount and a Maximum Dollar Limit of Liability for \n",
            "certain coverages are also set forth in Attachment One. Copies of the policy forms should be read. They are available from \n",
            "the office which issued this report.\n",
            "This report (and any supplements or amendments hereto) is issued solely for the purpose of facilitating the issuance of a \n",
            "policy of title insurance and no liability is assumed hereby. If it is desired that liability be assumed prior to the issuance of a \n",
            "policy of title insurance, a Binder or Commitment should be requested. \n",
            "The policy(s) of title insurance to be issued hereunder will be policy(s) of Chicago Title Insurance Company, a Nebraska \n",
            "Corporation.\n",
            "Please read the exceptions shown or referred to herein and the exceptions and exclusions set forth in Attachment One of \n",
            "this report carefully. The exceptions and exclusions are meant to provide you with notice of matters which are not covered \n",
            "under the terms of the title insurance policy and should be carefully considered.\n",
            "It is important to note that this preliminary report is not a written representation as to the condition of title and may not \n",
            "list all liens, defects and encumbrances affecting title to the land.\n",
            "Ticor Title Company of California\n",
            "By: \n",
            "Authorized Signature\n",
            "\n"
          ]
        }
      ]
    },
    {
      "cell_type": "code",
      "source": [
        "text_data = page.get_text(\"dict\")  # Extract text as a structured dictionary\n",
        "\n",
        "for block in text_data.get(\"blocks\", []):  # Loop through all blocks in the page\n",
        "    bbox = block[\"bbox\"]  # Get bounding box of the block\n",
        "\n",
        "    # Check if 'lines' exists in the block\n",
        "    if \"lines\" in block:\n",
        "        for line in block[\"lines\"]:\n",
        "            for span in line.get(\"spans\", []):  # Ensure spans exist\n",
        "                text = span[\"text\"]\n",
        "                print(f\"Text: {text}, Bounding Box: {bbox}\")\n"
      ],
      "metadata": {
        "colab": {
          "base_uri": "https://localhost:8080/"
        },
        "id": "TBF6xxamliQG",
        "outputId": "2f96f5b1-daab-461a-82bd-b57ed20e2b4f"
      },
      "execution_count": null,
      "outputs": [
        {
          "output_type": "stream",
          "name": "stdout",
          "text": [
            "Text: 2878 Camino Del Rio South, Suite 500, Bounding Box: (401.052001953125, 36.42599868774414, 557.8919067382812, 47.49599838256836)\n",
            "Text: San Diego, CA 92108, Bounding Box: (462.73199462890625, 47.92499923706055, 557.98193359375, 70.49400329589844)\n",
            "Text: Phone:  (619) 260-0015, Bounding Box: (462.73199462890625, 47.92499923706055, 557.98193359375, 70.49400329589844)\n",
            "Text: Fax:  (619) 692-9465, Bounding Box: (472.73199462890625, 70.92300415039062, 557.98193359375, 81.99300384521484)\n",
            "Text: CLTA Preliminary Report Form – Modified (11/17/06), Bounding Box: (54.0, 746.0339965820312, 557.9830322265625, 755.9969482421875)\n",
            "Text: Page 1, Bounding Box: (54.0, 746.0339965820312, 557.9830322265625, 755.9969482421875)\n",
            "Text: Issuing Policies of Chicago Title Insurance Company, Bounding Box: (199.0760040283203, 105.41999816894531, 412.89697265625, 116.49000549316406)\n",
            "Text: ORDER NO.:  , Bounding Box: (54.0, 135.91900634765625, 176.7100067138672, 146.989013671875)\n",
            "Text: CYTEST-995-, Bounding Box: (54.0, 135.91900634765625, 176.7100067138672, 146.989013671875)\n",
            "Text: Ticor Title Escrow , Bounding Box: (54.0, 159.41799926757812, 196.0199737548828, 227.98301696777344)\n",
            "Text: 567 Main Street, Bounding Box: (54.0, 159.41799926757812, 196.0199737548828, 227.98301696777344)\n",
            "Text: San Diego, CA 92108 , Bounding Box: (54.0, 159.41799926757812, 196.0199737548828, 227.98301696777344)\n",
            "Text: ATTN:  Best Escrow Officer  , Bounding Box: (54.0, 159.41799926757812, 196.0199737548828, 227.98301696777344)\n",
            "Text: Email:  escrowteam@ticortitle.com, Bounding Box: (54.0, 159.41799926757812, 196.0199737548828, 227.98301696777344)\n",
            "Text: Reference No.:  First Street, Bounding Box: (54.0, 159.41799926757812, 196.0199737548828, 227.98301696777344)\n",
            "Text: Escrow/Customer Phone:  , Bounding Box: (295.8500061035156, 135.91900634765625, 402.70001220703125, 146.989013671875)\n",
            "Text: Title Officer:  Best Title Officer, Bounding Box: (295.8500061035156, 159.41799926757812, 477.7599792480469, 204.98501586914062)\n",
            "Text: Title Officer Phone:  (619) 260-0000, Bounding Box: (295.8500061035156, 159.41799926757812, 477.7599792480469, 204.98501586914062)\n",
            "Text: Title Officer Fax:  (619) 295-0000, Bounding Box: (295.8500061035156, 159.41799926757812, 477.7599792480469, 204.98501586914062)\n",
            "Text: Title Officer Email:  titleteam@ticortitle.com, Bounding Box: (295.8500061035156, 159.41799926757812, 477.7599792480469, 204.98501586914062)\n",
            "Text: PROPERTY:, Bounding Box: (54.0, 240.41200256347656, 297.0099792480469, 251.4820098876953)\n",
            "Text: 1234 First Street, San Diego, CA  92101, Bounding Box: (54.0, 240.41200256347656, 297.0099792480469, 251.4820098876953)\n",
            "Text:  , Bounding Box: (54.0, 240.41200256347656, 297.0099792480469, 251.4820098876953)\n",
            "Text: PRELIMINARY REPORT, Bounding Box: (235.83099365234375, 270.99603271484375, 376.12103271484375, 284.280029296875)\n",
            "Text: In response to the application for a policy of title insurance referenced herein, , Bounding Box: (54.0, 290.7099914550781, 560.4970092773438, 347.7760009765625)\n",
            "Text: Ticor Title Company of California, Bounding Box: (54.0, 290.7099914550781, 560.4970092773438, 347.7760009765625)\n",
            "Text:  , Bounding Box: (54.0, 290.7099914550781, 560.4970092773438, 347.7760009765625)\n",
            "Text: hereby , Bounding Box: (54.0, 290.7099914550781, 560.4970092773438, 347.7760009765625)\n",
            "Text: reports that it is prepared to issue, or cause to be issued, as of the date hereof, a policy or policies of title insurance , Bounding Box: (54.0, 290.7099914550781, 560.4970092773438, 347.7760009765625)\n",
            "Text: describing the land and the estate or interest therein hereinafter set forth, insuring against loss which may be sustained by , Bounding Box: (54.0, 290.7099914550781, 560.4970092773438, 347.7760009765625)\n",
            "Text: reason of any defect, lien or encumbrance not shown or referred to as an exception herein or not excluded from coverage , Bounding Box: (54.0, 290.7099914550781, 560.4970092773438, 347.7760009765625)\n",
            "Text: pursuant to the printed Schedules, Conditions and Stipulations or Conditions of said policy forms., Bounding Box: (54.0, 290.7099914550781, 560.4970092773438, 347.7760009765625)\n",
            "Text: The printed Exceptions and Exclusions from the coverage and Limitations on Covered Risks of said policy or policies are set , Bounding Box: (54.0, 354.2049865722656, 560.489013671875, 434.2690124511719)\n",
            "Text: forth in Attachment One. The policy to be issued may contain an arbitration clause. When the Amount of Insurance is less , Bounding Box: (54.0, 354.2049865722656, 560.489013671875, 434.2690124511719)\n",
            "Text: than that set forth in the arbitration clause, all arbitrable matters shall be arbitrated at the option of either the Company or , Bounding Box: (54.0, 354.2049865722656, 560.489013671875, 434.2690124511719)\n",
            "Text: the Insured as the exclusive remedy of the parties. Limitations on Covered Risks applicable to the CLTA and ALTA , Bounding Box: (54.0, 354.2049865722656, 560.489013671875, 434.2690124511719)\n",
            "Text: Homeowner’s Policies of Title Insurance which establish a Deductible Amount and a Maximum Dollar Limit of Liability for , Bounding Box: (54.0, 354.2049865722656, 560.489013671875, 434.2690124511719)\n",
            "Text: certain coverages are also set forth in Attachment One. Copies of the policy forms should be read. They are available from , Bounding Box: (54.0, 354.2049865722656, 560.489013671875, 434.2690124511719)\n",
            "Text: the office which issued this report., Bounding Box: (54.0, 354.2049865722656, 560.489013671875, 434.2690124511719)\n",
            "Text: This report (and any supplements or amendments hereto) is issued solely for the purpose of facilitating the issuance of a , Bounding Box: (54.0, 440.697998046875, 560.4949951171875, 474.7660217285156)\n",
            "Text: policy of title insurance and no liability is assumed hereby. If it is desired that liability be assumed prior to the issuance of a , Bounding Box: (54.0, 440.697998046875, 560.4949951171875, 474.7660217285156)\n",
            "Text: policy of title insurance, a Binder or Commitment should be requested. , Bounding Box: (54.0, 440.697998046875, 560.4949951171875, 474.7660217285156)\n",
            "Text: The policy(s) of title insurance to be issued hereunder will be policy(s) of Chicago Title Insurance Company, a Nebraska , Bounding Box: (54.0, 481.1949768066406, 560.4959716796875, 503.76397705078125)\n",
            "Text: Corporation., Bounding Box: (54.0, 481.1949768066406, 560.4959716796875, 503.76397705078125)\n",
            "Text: Please read the exceptions shown or referred to herein and the exceptions and exclusions set forth in Attachment One of , Bounding Box: (54.0, 510.1930236816406, 560.4959716796875, 544.260986328125)\n",
            "Text: this report carefully. The exceptions and exclusions are meant to provide you with notice of matters which are not covered , Bounding Box: (54.0, 510.1930236816406, 560.4959716796875, 544.260986328125)\n",
            "Text: under the terms of the title insurance policy and should be carefully considered., Bounding Box: (54.0, 510.1930236816406, 560.4959716796875, 544.260986328125)\n",
            "Text: It is important to note that this preliminary report is not a written representation as to the condition of title and may not , Bounding Box: (54.0, 550.6900634765625, 560.489990234375, 584.7579956054688)\n",
            "Text: list all liens, defects and encumbrances affecting title to the land., Bounding Box: (54.0, 550.6900634765625, 560.489990234375, 584.7579956054688)\n",
            "Text: Ticor Title Company of California, Bounding Box: (54.0, 550.6900634765625, 560.489990234375, 584.7579956054688)\n",
            "Text: By: , Bounding Box: (54.0, 616.883056640625, 70.93000030517578, 627.9530029296875)\n",
            "Text: Authorized Signature, Bounding Box: (72.0, 628.382080078125, 157.739990234375, 639.4520263671875)\n"
          ]
        }
      ]
    },
    {
      "cell_type": "code",
      "source": [
        "# Render the first page as an image\n",
        "pix = page.get_pixmap()\n",
        "pix.save(\"page1.png\")"
      ],
      "metadata": {
        "id": "E0Kw9nrCmkZB"
      },
      "execution_count": null,
      "outputs": []
    }
  ]
}